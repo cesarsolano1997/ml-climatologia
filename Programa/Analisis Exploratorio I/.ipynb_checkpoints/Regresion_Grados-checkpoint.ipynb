{
 "cells": [
  {
   "cell_type": "code",
   "execution_count": 1,
   "id": "87f16d74",
   "metadata": {},
   "outputs": [],
   "source": [
    "from datetime import datetime\n",
    "import seaborn as sns\n",
    "import matplotlib.pyplot as plt\n",
    "import pyodbc\n",
    "import pandas as pd\n",
    "import numpy as np"
   ]
  },
  {
   "cell_type": "code",
   "execution_count": 2,
   "id": "70f692bc",
   "metadata": {},
   "outputs": [
    {
     "name": "stdout",
     "output_type": "stream",
     "text": [
      "\n",
      "\n",
      "\n",
      "conexión exitosa\n"
     ]
    }
   ],
   "source": [
    "direccion_servidor = 'LAPTOP-2R1SCPJG\\SQLEXPRESS'\n",
    "nombre_bd = 'BDVirunet'\n",
    "nombre_usuario = 'sa'\n",
    "password = '123456'\n",
    "\n",
    "try:\n",
    "    conexion = pyodbc.connect('DRIVER={ODBC Driver 17 for SQL Server};SERVER=' + \n",
    "                              direccion_servidor+';DATABASE='+nombre_bd+';UID='+nombre_usuario+';PWD=' + password)\n",
    "    print(\"\\n\"*2)\n",
    "    print(\"conexión exitosa\")\n",
    "    \n",
    "except Exception as e:\n",
    "    print(\"Ocurrió un error al conectar a SQL Server: \", e)"
   ]
  },
  {
   "cell_type": "code",
   "execution_count": 3,
   "id": "5cb446f4",
   "metadata": {},
   "outputs": [],
   "source": [
    "dFechaInicio = '2019-01-01'\n",
    "dFechaFin = '2019-12-31'"
   ]
  },
  {
   "cell_type": "code",
   "execution_count": null,
   "id": "4cb69648",
   "metadata": {},
   "outputs": [],
   "source": [
    "try:\n",
    "    with conexion.cursor() as cursor:\n",
    "            consulta = \"exec STP_OBTENER_TOTALIZADO_PLAGAS ?,?,?,?\"\n",
    "            cursor.execute(consulta, (dFechaInicio, dFechaFin, 1,1))\n",
    "\n",
    "            rows = cursor.fetchall()\n",
    "            \n",
    "            #df = pd.DataFrame((tuple(t) for t in rows)) \n",
    "            \n",
    "            cols = []\n",
    "            \n",
    "            for i,_ in enumerate(cursor.description):\n",
    "                cols.append(cursor.description[i][0])\n",
    "\n",
    "            pd.DataFrame(np.array(rows), columns = cols)\n",
    "            \n",
    "            #cursor.close()\n",
    "            \n",
    "            df = pd.DataFrame(columns =['Evaluador','Fecha','Fundo','Filtrado','Turno','Lote','Grupo_Plaga','Plaga','Caracteristica','Suma','Grado','Promedio','Porcentaje'] )\n",
    "            for i in range(len(rows)):\n",
    "                df.loc[i] = list(rows[i])\n",
    "except Exception as e: \n",
    "    print(e)"
   ]
  },
  {
   "cell_type": "markdown",
   "id": "937456c1",
   "metadata": {},
   "source": [
    "## Clima"
   ]
  },
  {
   "cell_type": "code",
   "execution_count": null,
   "id": "762a09eb",
   "metadata": {},
   "outputs": [],
   "source": [
    "data_weather = pd.ExcelFile('D:/bibliografia de tesis/Datos/Datos Climaticos Viru Palto.xlsx')\n",
    "df_weather = data_weather.parse('TABLA')  \n",
    "data_weather.close()"
   ]
  },
  {
   "cell_type": "code",
   "execution_count": null,
   "id": "e0d119fe",
   "metadata": {},
   "outputs": [],
   "source": [
    "df_weather = df_weather[df_weather['Año'] == 2019]"
   ]
  },
  {
   "cell_type": "code",
   "execution_count": null,
   "id": "bc2c4943",
   "metadata": {},
   "outputs": [],
   "source": [
    "df_weather.reset_index(drop = True, inplace = True)"
   ]
  },
  {
   "cell_type": "code",
   "execution_count": null,
   "id": "0af01867",
   "metadata": {},
   "outputs": [],
   "source": [
    "df_weather = df_weather[['Fecha','ET(mm).','Tº MIN/DIA (°C)','Tº MAX/DIA (°C)','Rad. Solar Prom.','HUMEDAD PROM.', 'T° Prom/Día (°C)']]\n",
    "df_weather = df_weather.rename(columns = {'ET(mm).' : 'ET', \n",
    "                                      'Tº MIN/DIA (°C)' : 'T_MIN',\n",
    "                                     'Tº MAX/DIA (°C)': 'T_MAX',\n",
    "                                     'Rad. Solar Prom.' : 'RS_PROM',\n",
    "                                     'HUMEDAD PROM.': 'HM_PROM',\n",
    "                                      'T° Prom/Día (°C)': 'TMP_PROM'})"
   ]
  },
  {
   "cell_type": "code",
   "execution_count": null,
   "id": "b5ad27b5",
   "metadata": {},
   "outputs": [],
   "source": [
    "arrFiltrados = df['Filtrado'].unique()"
   ]
  },
  {
   "cell_type": "code",
   "execution_count": null,
   "id": "e17c9198",
   "metadata": {},
   "outputs": [],
   "source": [
    "arrPlagas = []\n",
    "dfFilter = df\n",
    "dfCorrexLote = pd.DataFrame(columns=['Filtrado', 'Turno', 'Lote', 'Plaga','Caracteristica'])\n",
    "iContador = 0\n",
    "for filtrado in arrFiltrados:\n",
    "    dfFiltrado = dfFilter[dfFilter['Filtrado'] == filtrado]\n",
    "    arrTurno = dfFiltrado['Turno'].unique()\n",
    "    for turno in arrTurno:\n",
    "        dfTurno = dfFiltrado[dfFiltrado['Turno'] == turno]\n",
    "        arrLote = dfTurno['Lote'].unique()\n",
    "        for lote in arrLote:  \n",
    "            dfLote = dfTurno[dfTurno['Lote'] == lote]\n",
    "            arrPlagaxLote = dfLote['Plaga'].unique()\n",
    "            for plaga in arrPlagaxLote:\n",
    "                dfPlaga = dfLote[dfLote['Plaga'] == plaga]\n",
    "                arrPlagaxCarac = dfPlaga['Caracteristica'].unique()\n",
    "                for caracteristica in arrPlagaxCarac:\n",
    "                    dfCarac = dfPlaga[dfPlaga['Caracteristica'] == caracteristica]\n",
    "                    dfCarac = dfCarac.sort_values(by=['Fecha'])\n",
    "         \n",
    "                    dfCarac = dfCarac.groupby(['Fecha','Fundo','Filtrado','Turno','Plaga','Caracteristica'])['Grado'].sum().reset_index()\n",
    "                    \n",
    "                    fl_df_weather = df_weather[df_weather['Fecha'].isin(dfCarac['Fecha'])]\n",
    "                    fl_df_weather = fl_df_weather.sort_values(by=['Fecha'])\n",
    "                    fl_df_weather.reset_index(drop = True, inplace = True)\n",
    "                    fl_df_weather = fl_df_weather.rename(columns = {'Fecha' : 'FechaClima'})\n",
    "                    df_union = fl_df_weather.join(dfCarac)\n",
    "                 \n",
    "                    # Filtrar el dataset por las variables que se usarán\n",
    "                    #df_union = df_union[['Fecha','ET','TMP_PROM','T_MIN','T_MAX','RS_PROM','HM_PROM','Grado']]        \n",
    "                    df_union = df_union[['Fecha','ET','TMP_PROM','RS_PROM','HM_PROM','Grado']]   \n",
    "                    \n",
    "                    df_union[[\"Grado\"]] = df_union[[\"Grado\"]].apply(pd.to_numeric)\n",
    "                \n",
    "                    dfCorrelacion = df_union.corr().abs()\n",
    "                    \n",
    "                    dfCorrelacion_index = dfCorrelacion[dfCorrelacion['Grado'] > 0.60]\n",
    "\n",
    "                    if dfCorrelacion_index.shape[0] > 1:   \n",
    "                        \n",
    "                        dfCorrexLote = dfCorrexLote.append({'Filtrado': filtrado,'Turno': turno,'Lote' : lote, 'Plaga': plaga,'Caracteristica': caracteristica},ignore_index=True)\n",
    "                        arrPlagas.append(plaga)\n",
    "                        #Creando Mapa de Calor\n",
    "                        sns.set()\n",
    "                        \n",
    "                        print('------------------------------------------------------------')\n",
    "                        print('Lugar: Filtrado {} - Turno {} - Lote {}'.format(filtrado,turno, lote))\n",
    "                        print('Plaga: ', plaga)\n",
    "                        print('Caracteristica: ', caracteristica)      \n",
    "                        \n",
    "                        print('------------------------------------------------------------')\n",
    "                        \n",
    "                        ax = sns.heatmap(dfCorrelacion, annot = True)\n",
    "                        iContador = iContador + 1\n",
    "                        plt.title('{}'.format(caracteristica), fontdict = { 'fontsize' : '15'})\n",
    "                        plt.show()"
   ]
  },
  {
   "cell_type": "code",
   "execution_count": null,
   "id": "2c1eb6e7",
   "metadata": {},
   "outputs": [],
   "source": [
    "arrPlagas = np.array(arrPlagas)\n",
    "np.unique(arrPlagas)\n"
   ]
  },
  {
   "cell_type": "markdown",
   "id": "0749a3ce",
   "metadata": {},
   "source": [
    "# Entrenamiento de datos"
   ]
  },
  {
   "cell_type": "code",
   "execution_count": null,
   "id": "892bf03f",
   "metadata": {},
   "outputs": [],
   "source": [
    "#!pip install statsmodels"
   ]
  },
  {
   "cell_type": "code",
   "execution_count": null,
   "id": "04e6cbdd",
   "metadata": {},
   "outputs": [],
   "source": [
    "from sklearn.model_selection import train_test_split,cross_validate,RepeatedKFold\n",
    "from sklearn.linear_model import LinearRegression\n",
    "from sklearn import metrics\n",
    "import statsmodels.api as sm"
   ]
  },
  {
   "cell_type": "code",
   "execution_count": null,
   "id": "acfb4821",
   "metadata": {},
   "outputs": [],
   "source": [
    "dfFilter = df\n",
    "dfFilter.head()"
   ]
  },
  {
   "cell_type": "code",
   "execution_count": null,
   "id": "24082795",
   "metadata": {},
   "outputs": [],
   "source": [
    "dfCorrexLote = pd.DataFrame(columns=['Filtrado', 'Turno', 'Lote', 'Plaga','Caracteristica'])\n",
    "iContador = 0\n",
    "for filtrado in arrFiltrados:\n",
    "    dfFiltrado = dfFilter[dfFilter['Filtrado'] == filtrado]\n",
    "    arrTurno = dfFiltrado['Turno'].unique()\n",
    "    for turno in arrTurno:\n",
    "        dfTurno = dfFiltrado[dfFiltrado['Turno'] == turno]\n",
    "        arrLote = dfTurno['Lote'].unique()\n",
    "        for lote in arrLote:  \n",
    "            dfLote = dfTurno[dfTurno['Lote'] == lote]\n",
    "            arrPlagaxLote = dfLote['Plaga'].unique()\n",
    "            for plaga in arrPlagaxLote:\n",
    "                dfPlaga = dfLote[dfLote['Plaga'] == plaga]\n",
    "                arrPlagaxCarac = dfPlaga['Caracteristica'].unique()\n",
    "                for caracteristica in arrPlagaxCarac:\n",
    "                    dfCarac = dfPlaga[dfPlaga['Caracteristica'] == caracteristica]\n",
    "                    dfCarac = dfCarac.sort_values(by=['Fecha'])\n",
    "         \n",
    "                    dfCarac = dfCarac.groupby(['Fecha','Fundo','Filtrado','Turno','Plaga','Caracteristica'])['Grado'].sum().reset_index()\n",
    "                    \n",
    "                    fl_df_weather = df_weather[df_weather['Fecha'].isin(dfCarac['Fecha'])]\n",
    "                    fl_df_weather = fl_df_weather.sort_values(by=['Fecha'])\n",
    "                    fl_df_weather.reset_index(drop = True, inplace = True)\n",
    "                    fl_df_weather = fl_df_weather.rename(columns = {'Fecha' : 'FechaClima'})\n",
    "                    df_union = fl_df_weather.join(dfCarac)\n",
    "                 \n",
    "                    #df_union = df_union[['Fecha','ET','TMP_PROM','T_MIN','T_MAX','RS_PROM','HM_PROM','Grado']]        \n",
    "                    df_union = df_union[['Fecha','ET','TMP_PROM','RS_PROM','HM_PROM','Grado']]        \n",
    "                                   \n",
    "                    df_union[[\"Grado\"]] = df_union[[\"Grado\"]].apply(pd.to_numeric)\n",
    "                \n",
    "                    dfCorrelacion = df_union.corr().abs()\n",
    "                    \n",
    "                    dfCorrelacion_index = dfCorrelacion[dfCorrelacion['Grado'] > 0.60]\n",
    "\n",
    "                    if dfCorrelacion_index.shape[0] > 1:   \n",
    "                        \n",
    "                        arrColumns = dfCorrelacion_index.columns\n",
    "                        arrColumnsUnion = []\n",
    "                        ###########################################\n",
    "                        for column in arrColumns:\n",
    "                            if (dfCorrelacion_index[column]['Grado'] > 0.60) & (column != 'Grado'):\n",
    "                                    arrColumnsUnion.append(column)\n",
    "                        ############################################  \n",
    "                         #Creando regresión lineal\n",
    "                        df_union = df_union.drop('Fecha' ,axis=1)\n",
    "                        df_union = df_union.fillna(df_union.mean())\n",
    "                        if df_union[arrColumnsUnion].shape[0] > 1:   \n",
    "                            df_union.to_excel('datasets/{}_{}_{}_{}.xlsx'.format(filtrado,turno,lote,plaga))\n",
    "                            x = df_union[arrColumnsUnion]\n",
    "                            y = df_union['Grado']\n",
    "                            plt.title('F{}- {} - {} - {}'.format(filtrado,turno, lote, plaga))\n",
    "                            print('------------------------------------------------------------')\n",
    "                            \n",
    "                            X_train, X_test, y_train, y_test = train_test_split(x,\n",
    "                                                                                y, \n",
    "                                                                                test_size    = 0.8, \n",
    "                                                                                random_state = 1234,\n",
    "                                                                                shuffle      = True\n",
    "                                                                               )\n",
    "                            lrm = LinearRegression()\n",
    "                            lrm.fit(X_train,y_train)\n",
    "                            predicciones = lrm.predict(X_test)\n",
    "                            \n",
    "                            \n",
    "                            print('Lugar: Filtrado {} - Turno {} - Lote {}'.format(filtrado,turno, lote))\n",
    "                            print('Plaga: ', plaga)\n",
    "                            print('Caracteristica: ', caracteristica)\n",
    "                            print('Número de datos: ',  x.shape[0])\n",
    "                            plt.scatter(y_test, predicciones,  color='black')\n",
    "                    \n",
    "                            print('Coeficiente: {} '.format(lrm.coef_))\n",
    "                            print('Variables X:', arrColumnsUnion)\n",
    "                            print('Intercepción:', lrm.intercept_)\n",
    "                            print('Coeficiente de determinación R^2:' ,lrm.score(x,y))\n",
    "                            print('------------------------------------------------------------------')\n",
    "                            plt.show()\n",
    "                            \n",
    "                            \n",
    "                            print('Predicciones')\n",
    "                            print('=============')\n",
    "                            print(plaga)\n",
    "                            df_predicciones = pd.DataFrame({caracteristica : y_test, 'prediccion' : predicciones})\n",
    "                            print(df_predicciones)\n",
    "                            "
   ]
  },
  {
   "cell_type": "code",
   "execution_count": null,
   "id": "ee60f386",
   "metadata": {},
   "outputs": [],
   "source": []
  }
 ],
 "metadata": {
  "kernelspec": {
   "display_name": "py39",
   "language": "python",
   "name": "py39"
  },
  "language_info": {
   "codemirror_mode": {
    "name": "ipython",
    "version": 3
   },
   "file_extension": ".py",
   "mimetype": "text/x-python",
   "name": "python",
   "nbconvert_exporter": "python",
   "pygments_lexer": "ipython3",
   "version": "3.9.5"
  }
 },
 "nbformat": 4,
 "nbformat_minor": 5
}
