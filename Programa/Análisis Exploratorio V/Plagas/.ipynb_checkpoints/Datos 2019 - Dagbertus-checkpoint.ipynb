{
 "cells": [
  {
   "cell_type": "code",
   "execution_count": 1,
   "id": "7615bbbd",
   "metadata": {},
   "outputs": [],
   "source": [
    "# Tratamiento de datos\n",
    "# ==============================================================================\n",
    "import pandas as pd\n",
    "import numpy as np\n",
    "\n",
    "# Gráficos\n",
    "# ==============================================================================\n",
    "import matplotlib.pyplot as plt\n",
    "from matplotlib import style\n",
    "import seaborn as sns\n",
    "\n",
    "# Preprocesado y modelado\n",
    "# ==============================================================================\n",
    "from scipy.stats import pearsonr\n",
    "from sklearn.model_selection import train_test_split\n",
    "from sklearn.metrics import r2_score\n",
    "from sklearn.metrics import mean_squared_error\n",
    "import statsmodels.api as sm\n",
    "import statsmodels.formula.api as smf\n",
    "from statsmodels.stats.anova import anova_lm\n",
    "from scipy import stats\n",
    "\n",
    "# Configuración matplotlib\n",
    "# ==============================================================================\n",
    "plt.rcParams['image.cmap'] = \"bwr\"\n",
    "#plt.rcParams['figure.dpi'] = \"100\"\n",
    "plt.rcParams['savefig.bbox'] = \"tight\"\n",
    "style.use('ggplot') or plt.style.use('ggplot')\n",
    "\n",
    "# Configuración warnings\n",
    "# ==============================================================================\n",
    "import warnings\n",
    "warnings.filterwarnings('ignore')"
   ]
  },
  {
   "cell_type": "code",
   "execution_count": 2,
   "id": "60d5aa3c",
   "metadata": {},
   "outputs": [],
   "source": [
    " # Conexión a BD\n",
    "# ==============================================================================\n",
    "import pyodbc"
   ]
  },
  {
   "cell_type": "code",
   "execution_count": 3,
   "id": "aa1ce0c5",
   "metadata": {},
   "outputs": [
    {
     "name": "stdout",
     "output_type": "stream",
     "text": [
      "Conexión exitosa\n"
     ]
    }
   ],
   "source": [
    "# Configuración de BD y conexión\n",
    "# ==============================================================================\n",
    "direccion_servidor = '192.168.1.32,55078'\n",
    "nombre_bd = 'BDVirunet'\n",
    "nombre_usuario = 'sa'\n",
    "password = '123456'\n",
    "\n",
    "try:\n",
    "    conexion = pyodbc.connect('DRIVER={ODBC Driver 17 for SQL Server};SERVER=' + \n",
    "                              direccion_servidor+';DATABASE='+nombre_bd+';UID='+nombre_usuario+';PWD=' + password)\n",
    "    print(\"Conexión exitosa\")\n",
    "    \n",
    "except Exception as e:\n",
    "    print(\"Ocurrió un error al conectar a SQL Server: \", e)"
   ]
  },
  {
   "cell_type": "code",
   "execution_count": 4,
   "id": "afbc1edf",
   "metadata": {},
   "outputs": [],
   "source": [
    "dFechaInicio = '2019-01-01'\n",
    "dFechaFin = '2019-12-31'"
   ]
  },
  {
   "cell_type": "code",
   "execution_count": null,
   "id": "fc9b5640",
   "metadata": {},
   "outputs": [],
   "source": [
    "try:\n",
    "    with conexion.cursor() as cursor:\n",
    "            consulta = \"exec STP_OBTENER_TOTALIZADO_PLAGAS ?,?,?,?\"\n",
    "            cursor.execute(consulta, (dFechaInicio, dFechaFin, 1,0))\n",
    "\n",
    "            rows = cursor.fetchall()\n",
    "            \n",
    "            cols = []\n",
    "            \n",
    "            for i,_ in enumerate(cursor.description):\n",
    "                cols.append(cursor.description[i][0])\n",
    "\n",
    "            pd.DataFrame(np.array(rows), columns = cols)\n",
    "            \n",
    "            df = pd.DataFrame(columns =['Evaluador','Fecha','Fundo','Filtrado','Turno','Lote','Grupo_Plaga','Plaga','Caracteristica','Suma','Grado','Promedio','Porcentaje'] )\n",
    "            for i in range(len(rows)):\n",
    "                df.loc[i] = list(rows[i])\n",
    "except Exception as e: \n",
    "    print(e)"
   ]
  },
  {
   "cell_type": "code",
   "execution_count": null,
   "id": "8ead6f06",
   "metadata": {},
   "outputs": [],
   "source": [
    "dfPlaga =  df[df[\"Plaga\"] == \"DAGBERTUS MINENSIS, DAGBERTUS PERUANUS\"]"
   ]
  },
  {
   "cell_type": "code",
   "execution_count": null,
   "id": "7bb18560",
   "metadata": {},
   "outputs": [],
   "source": [
    "dfPlaga[\"Lote\"].unique().shape[0]"
   ]
  },
  {
   "cell_type": "code",
   "execution_count": null,
   "id": "9d982b5a",
   "metadata": {},
   "outputs": [],
   "source": [
    "df17 = dfPlaga[dfPlaga[\"Filtrado\"] == \"17\"]"
   ]
  },
  {
   "cell_type": "code",
   "execution_count": null,
   "id": "2a173b6c",
   "metadata": {},
   "outputs": [],
   "source": [
    "df17['Semana'] = pd.to_datetime(df17['Fecha'], format='%Y-%m-%d').dt.weekofyear"
   ]
  },
  {
   "cell_type": "code",
   "execution_count": null,
   "id": "4059b006",
   "metadata": {},
   "outputs": [],
   "source": [
    "for lote in df17[\"Lote\"].unique():\n",
    "    print(\"Lote \"+ str(lote))\n",
    "    print(df17[df17[\"Lote\"] == lote].shape[0])\n",
    "    print(\"********************\")"
   ]
  },
  {
   "cell_type": "code",
   "execution_count": null,
   "id": "3859e30f",
   "metadata": {},
   "outputs": [],
   "source": [
    "df17[df17[\"Lote\"] == \"1717\"].sort_values(by=['Semana'])"
   ]
  },
  {
   "cell_type": "code",
   "execution_count": null,
   "id": "52986b44",
   "metadata": {},
   "outputs": [],
   "source": [
    "dfPlaga.head()"
   ]
  },
  {
   "cell_type": "code",
   "execution_count": null,
   "id": "ffc362ad",
   "metadata": {},
   "outputs": [],
   "source": [
    "data_weather = pd.ExcelFile('D:/Proyectos GitHub/Python/Datos/Datos Climaticos Viru Palto.xlsx')\n",
    "df_weather = data_weather.parse('TABLA')  \n",
    "data_weather.close()"
   ]
  },
  {
   "cell_type": "code",
   "execution_count": null,
   "id": "28e8cd01",
   "metadata": {},
   "outputs": [],
   "source": [
    "df_weather = df_weather[df_weather['Año'] == 2019]\n",
    "df_weather = df_weather[(df_weather['Fecha'] >= dFechaInicio) & (df_weather['Fecha'] <= dFechaFin)]\n",
    "df_weather.reset_index(drop = True, inplace = True)"
   ]
  },
  {
   "cell_type": "code",
   "execution_count": null,
   "id": "7b259477",
   "metadata": {},
   "outputs": [],
   "source": [
    "df_weather = df_weather[['Fecha','ET(mm).','Tº MIN/DIA (°C)','Tº MAX/DIA (°C)','Rad. Solar Prom.','HUMEDAD PROM.', 'T° Prom/Día (°C)','Semana']]\n",
    "df_weather = df_weather.rename(columns = {'ET(mm).' : 'ET', \n",
    "                                      'Tº MIN/DIA (°C)' : 'T_MIN',\n",
    "                                     'Tº MAX/DIA (°C)': 'T_MAX',\n",
    "                                     'Rad. Solar Prom.' : 'RS_PROM',\n",
    "                                     'HUMEDAD PROM.': 'HM_PROM',\n",
    "                                      'T° Prom/Día (°C)': 'TMP_PROM',\n",
    "                                         'Semana': 'Semana'})"
   ]
  },
  {
   "cell_type": "code",
   "execution_count": null,
   "id": "daa09777",
   "metadata": {},
   "outputs": [],
   "source": []
  },
  {
   "cell_type": "code",
   "execution_count": null,
   "id": "e3bf41f9",
   "metadata": {},
   "outputs": [],
   "source": [
    "dfPlaga['Semana'] = pd.to_datetime(dfPlaga['Fecha'], format='%Y-%m-%d').dt.weekofyear"
   ]
  },
  {
   "cell_type": "code",
   "execution_count": null,
   "id": "084e2afe",
   "metadata": {},
   "outputs": [],
   "source": [
    "dfPlaga.shape[0]"
   ]
  },
  {
   "cell_type": "code",
   "execution_count": null,
   "id": "885088f6",
   "metadata": {},
   "outputs": [],
   "source": [
    "dfFilterPlaga = dfPlaga[[\"Filtrado\",\"Lote\",\"Fecha\",\"Semana\",\"Porcentaje\"]]"
   ]
  },
  {
   "cell_type": "code",
   "execution_count": null,
   "id": "87b3f196",
   "metadata": {},
   "outputs": [],
   "source": [
    "dfFilterPlaga[\"Filtrado\"].unique()"
   ]
  },
  {
   "cell_type": "code",
   "execution_count": null,
   "id": "6fc2e83a",
   "metadata": {},
   "outputs": [],
   "source": [
    "dfPlagaAll = pd.DataFrame(columns = ['FechaClima','ET','T_MIN','T_MAX','RS_PROM','HM_PROM','TMP_PROM','Semana','Filtrado','Lote','Fecha','Porcentaje'])"
   ]
  },
  {
   "cell_type": "code",
   "execution_count": null,
   "id": "c7acc49a",
   "metadata": {},
   "outputs": [],
   "source": [
    "for filtrado in dfFilterPlaga[\"Filtrado\"].unique():\n",
    "    dfFiltrado = dfFilterPlaga[dfFilterPlaga[\"Filtrado\"] == filtrado]\n",
    "    arrLote = dfFiltrado[\"Lote\"].unique()\n",
    "    for lote in arrLote:\n",
    "        \n",
    "        dfPlagaFiltrado = dfFiltrado[dfFiltrado[\"Lote\"] == lote].sort_values(by=['Semana'])\n",
    "        dfPlagaFiltrado.reset_index(drop = True, inplace = True)        \n",
    "        fl_df_weather = df_weather[df_weather['Fecha'].isin(dfPlagaFiltrado['Fecha'])]\n",
    "        fl_df_weather = fl_df_weather.sort_values(by=['Fecha'])\n",
    "        fl_df_weather.reset_index(drop = True, inplace = True)\n",
    "        fl_df_weather = fl_df_weather.rename(columns = {'Fecha' : 'FechaClima'})\n",
    "        \n",
    "        dfPlagaFiltrado = dfPlagaFiltrado.drop('Semana' ,axis=1)\n",
    "        \n",
    "        df_union = fl_df_weather.join(dfPlagaFiltrado)  \n",
    "        df_union['Semana'] = pd.to_datetime(df_union['Fecha'], format='%Y-%m-%d').dt.weekofyear\n",
    "        dfPlagaAll = pd.concat([dfPlagaAll, df_union])\n",
    "       "
   ]
  },
  {
   "cell_type": "code",
   "execution_count": null,
   "id": "a5ee28eb",
   "metadata": {},
   "outputs": [],
   "source": [
    "dfPlagaAll = dfPlagaAll.drop_duplicates()"
   ]
  },
  {
   "cell_type": "code",
   "execution_count": null,
   "id": "6a2178c0",
   "metadata": {},
   "outputs": [],
   "source": [
    "dfPlagaAll.sort_values(by=['Filtrado','Lote','Semana'])"
   ]
  },
  {
   "cell_type": "code",
   "execution_count": null,
   "id": "5296d38f",
   "metadata": {},
   "outputs": [],
   "source": [
    "dfPlagaAll = dfPlagaAll[[\"Filtrado\",\"Lote\",\"Fecha\",\"\"]]"
   ]
  },
  {
   "cell_type": "code",
   "execution_count": null,
   "id": "8519f388",
   "metadata": {},
   "outputs": [],
   "source": [
    "dfPlagaAll.to_excel(\"datasets/Dagbertus2019.xlsx\")"
   ]
  }
 ],
 "metadata": {
  "kernelspec": {
   "display_name": "Python 3 (ipykernel)",
   "language": "python",
   "name": "python3"
  },
  "language_info": {
   "codemirror_mode": {
    "name": "ipython",
    "version": 3
   },
   "file_extension": ".py",
   "mimetype": "text/x-python",
   "name": "python",
   "nbconvert_exporter": "python",
   "pygments_lexer": "ipython3",
   "version": "3.9.6"
  }
 },
 "nbformat": 4,
 "nbformat_minor": 5
}
