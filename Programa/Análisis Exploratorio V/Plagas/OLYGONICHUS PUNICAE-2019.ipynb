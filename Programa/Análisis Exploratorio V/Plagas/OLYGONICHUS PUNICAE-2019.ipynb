{
 "cells": [
  {
   "cell_type": "code",
   "execution_count": 7,
   "id": "b7bc77d7",
   "metadata": {},
   "outputs": [],
   "source": [
    "# Tratamiento de datos\n",
    "# ==============================================================================\n",
    "import pandas as pd\n",
    "import numpy as np"
   ]
  },
  {
   "cell_type": "code",
   "execution_count": 8,
   "id": "1350e060",
   "metadata": {},
   "outputs": [],
   "source": [
    "# Conexión a BD\n",
    "# ==============================================================================\n",
    "import pyodbc"
   ]
  },
  {
   "cell_type": "code",
   "execution_count": 9,
   "id": "edd93886",
   "metadata": {},
   "outputs": [
    {
     "name": "stdout",
     "output_type": "stream",
     "text": [
      "Conexión exitosa\n"
     ]
    }
   ],
   "source": [
    "# Configuración de BD y conexión\n",
    "# ==============================================================================\n",
    "direccion_servidor = '192.168.1.32,55078'\n",
    "nombre_bd = 'BDVirunet'\n",
    "nombre_usuario = 'sa'\n",
    "password = '123456'\n",
    "\n",
    "try:\n",
    "    conexion = pyodbc.connect('DRIVER={ODBC Driver 17 for SQL Server};SERVER=' + \n",
    "                              direccion_servidor+';DATABASE='+nombre_bd+';UID='+nombre_usuario+';PWD=' + password)\n",
    "    print(\"Conexión exitosa\")\n",
    "    \n",
    "except Exception as e:\n",
    "    print(\"Ocurrió un error al conectar a SQL Server: \", e)"
   ]
  },
  {
   "cell_type": "code",
   "execution_count": 10,
   "id": "be9cee88",
   "metadata": {},
   "outputs": [],
   "source": [
    "dFechaInicio = '2019-01-01'\n",
    "dFechaFin = '2019-12-31'"
   ]
  },
  {
   "cell_type": "code",
   "execution_count": 11,
   "id": "cd4d86df",
   "metadata": {},
   "outputs": [],
   "source": [
    "try:\n",
    "    with conexion.cursor() as cursor:\n",
    "            consulta = \"exec STP_OBTENER_TOTALIZADO_PLAGAS ?,?,?,?\"\n",
    "            cursor.execute(consulta, (dFechaInicio, dFechaFin, 1,1))\n",
    "\n",
    "            rows = cursor.fetchall()\n",
    "            \n",
    "            cols = []\n",
    "            \n",
    "            for i,_ in enumerate(cursor.description):\n",
    "                cols.append(cursor.description[i][0])\n",
    "\n",
    "            pd.DataFrame(np.array(rows), columns = cols)\n",
    "            \n",
    "            df = pd.DataFrame(columns =['Evaluador','Fecha','Fundo','Filtrado','Turno','Lote','Grupo_Plaga','Plaga','Caracteristica','Suma','Grado','Promedio','Porcentaje'] )\n",
    "            for i in range(len(rows)):\n",
    "                df.loc[i] = list(rows[i])\n",
    "except Exception as e: \n",
    "    print(e)"
   ]
  },
  {
   "cell_type": "code",
   "execution_count": 12,
   "id": "4d28579b",
   "metadata": {},
   "outputs": [],
   "source": [
    "# Gráficos\n",
    "# ==============================================================================\n",
    "import matplotlib.pyplot as plt\n",
    "from matplotlib import style\n",
    "import seaborn as sns"
   ]
  },
  {
   "cell_type": "code",
   "execution_count": 13,
   "id": "0e95ff93",
   "metadata": {},
   "outputs": [],
   "source": [
    "# Configuración matplotlib\n",
    "# ==============================================================================\n",
    "plt.rcParams['image.cmap'] = \"bwr\"\n",
    "#plt.rcParams['figure.dpi'] = \"100\"\n",
    "plt.rcParams['savefig.bbox'] = \"tight\"\n",
    "style.use('ggplot') or plt.style.use('ggplot')\n",
    "\n",
    "# Configuración warnings\n",
    "# ==============================================================================\n",
    "import warnings\n",
    "warnings.filterwarnings('ignore')"
   ]
  },
  {
   "cell_type": "code",
   "execution_count": 14,
   "id": "5e280195",
   "metadata": {},
   "outputs": [],
   "source": [
    "arrPlagas = df[\"Plaga\"].unique()\n",
    "arrFiltrado = df[\"Filtrado\"].unique()"
   ]
  },
  {
   "cell_type": "code",
   "execution_count": 15,
   "id": "8d234a65",
   "metadata": {},
   "outputs": [],
   "source": [
    "from pathlib import Path\n",
    "from datetime import datetime"
   ]
  },
  {
   "cell_type": "code",
   "execution_count": null,
   "id": "889f21f3",
   "metadata": {},
   "outputs": [],
   "source": [
    "for filtrado in arrFiltrado:\n",
    "    dfFiltrado = df[df[\"Filtrado\"] == filtrado]\n",
    "    arrLote = dfFiltrado[\"Lote\"].unique()\n",
    "    for lote  in arrLote:\n",
    "            dfLote = dfFiltrado[dfFiltrado['Lote'] == lote]\n",
    "            arrPlagaxLote = dfLote['Plaga'].unique()\n",
    "            for plaga in arrPlagaxLote:\n",
    "                dfPlaga = dfLote[dfLote['Plaga'] == plaga]\n",
    "                arrPlagaxCarac = dfPlaga['Caracteristica'].unique()\n",
    "                for caracteristica in arrPlagaxCarac:\n",
    "                    dfCarac = dfPlaga[dfPlaga['Caracteristica'] == caracteristica]\n",
    "                    dfCarac = dfCarac.sort_values(by=['Fecha'])\n",
    "\n",
    "                    dfCarac = dfCarac[dfCarac[\"Suma\"] > 0]         \n",
    "                    print(dfCarac.shape[0])\n",
    "                    x = dfCarac[\"Fecha\"]\n",
    "                    y = dfCarac[\"Suma\"]\n",
    "                    title = \"F{}- L{} - {} - {}\".format(filtrado,lote,plaga,caracteristica)\n",
    "\n",
    "                    pathCarac = Path('{}/{}'.format('img',plaga.replace('/','')))\n",
    "                    pathCarac.mkdir(parents=True, exist_ok=True)  \n",
    "\n",
    "\n",
    "                    fig = plt.figure(figsize=(12, 6))\n",
    "                    plt.plot(x,y)\n",
    "                    plt.title(title)\n",
    "                    # plt.savefig('{}/{}/{}.png'.format('img',plaga.replace('/',''),caracteristica.replace('/','')))\n",
    "                    plt.show()\n",
    "               "
   ]
  },
  {
   "cell_type": "code",
   "execution_count": null,
   "id": "557508a6",
   "metadata": {},
   "outputs": [],
   "source": [
    "df[\"Lote\"].unique().shape[0]"
   ]
  },
  {
   "cell_type": "markdown",
   "id": "e64f948a",
   "metadata": {},
   "source": [
    "# Modelando"
   ]
  },
  {
   "cell_type": "code",
   "execution_count": null,
   "id": "58a11e16",
   "metadata": {},
   "outputs": [],
   "source": [
    "df[\"Filtrado\"].unique()"
   ]
  },
  {
   "cell_type": "code",
   "execution_count": 16,
   "id": "7b87196c",
   "metadata": {},
   "outputs": [
    {
     "name": "stdout",
     "output_type": "stream",
     "text": [
      "Filtrado: 10N\n",
      "Cantidad: 1854\n",
      "**************************\n",
      "Filtrado: 11N\n",
      "Cantidad: 2320\n",
      "**************************\n",
      "Filtrado: 13\n",
      "Cantidad: 2032\n",
      "**************************\n",
      "Filtrado: 15\n",
      "Cantidad: 511\n",
      "**************************\n",
      "Filtrado: 16\n",
      "Cantidad: 666\n",
      "**************************\n",
      "Filtrado: 17\n",
      "Cantidad: 1059\n",
      "**************************\n",
      "Filtrado: 18\n",
      "Cantidad: 376\n",
      "**************************\n",
      "Filtrado: 20\n",
      "Cantidad: 1000\n",
      "**************************\n",
      "Filtrado: 22\n",
      "Cantidad: 617\n",
      "**************************\n",
      "Filtrado: 29\n",
      "Cantidad: 3529\n",
      "**************************\n",
      "Filtrado: 30\n",
      "Cantidad: 2962\n",
      "**************************\n",
      "Filtrado: 9N\n",
      "Cantidad: 51\n",
      "**************************\n"
     ]
    }
   ],
   "source": [
    "for filtrado in df[\"Filtrado\"].unique():\n",
    "    print(\"Filtrado: \" + filtrado)\n",
    "    nCantidadFiltrado = df[df[\"Filtrado\"] == filtrado].shape[0]\n",
    "    print(\"Cantidad: \" + str(nCantidadFiltrado))\n",
    "    print(\"**************************\")"
   ]
  },
  {
   "cell_type": "code",
   "execution_count": 17,
   "id": "557419a8",
   "metadata": {},
   "outputs": [],
   "source": [
    "filtradosEleg = [\"17\",\"20\",\"10N\"]\n",
    "dfFilEleg = df[df[\"Filtrado\"].isin(filtradosEleg)]"
   ]
  },
  {
   "cell_type": "code",
   "execution_count": null,
   "id": "6881f362",
   "metadata": {},
   "outputs": [],
   "source": [
    "dfFilEleg.shape[0]"
   ]
  },
  {
   "cell_type": "markdown",
   "id": "4426b486",
   "metadata": {},
   "source": [
    "## Filtrado 17, 20 y 10N"
   ]
  },
  {
   "cell_type": "code",
   "execution_count": null,
   "id": "91be1a81",
   "metadata": {},
   "outputs": [],
   "source": [
    "dfFilEleg[\"Plaga\"].unique()"
   ]
  },
  {
   "cell_type": "markdown",
   "id": "4f1ddaf5",
   "metadata": {},
   "source": [
    "### Plaga : OLYGONICHUS PUNICAE"
   ]
  },
  {
   "cell_type": "code",
   "execution_count": 18,
   "id": "7e246350",
   "metadata": {},
   "outputs": [],
   "source": [
    "dfPlg = dfFilEleg[dfFilEleg[\"Plaga\"] == \"OLYGONICHUS PUNICAE, OLIGONYCHUS YOTHERSI\"]"
   ]
  },
  {
   "cell_type": "markdown",
   "id": "b244b2cf",
   "metadata": {},
   "source": [
    "#### Caracteristia G° INFESTACIÓN (NINFAS-ADULTOS)\t"
   ]
  },
  {
   "cell_type": "code",
   "execution_count": 19,
   "id": "c01ae25e",
   "metadata": {},
   "outputs": [],
   "source": [
    "dfCarac = dfPlg[dfPlg[\"Caracteristica\"] == \"G° INFESTACIÓN (NINFAS-ADULTOS)\" ]"
   ]
  },
  {
   "cell_type": "markdown",
   "id": "c9f71935",
   "metadata": {},
   "source": [
    "#### Todo el año"
   ]
  },
  {
   "cell_type": "code",
   "execution_count": 20,
   "id": "1dbc5bcd",
   "metadata": {},
   "outputs": [],
   "source": [
    "dtIniPoda = datetime.strptime('2019-01-01', '%Y-%m-%d')\n",
    "dtFinPoda = datetime.strptime('2019-12-31', '%Y-%m-%d')\n",
    "dfPoda = dfCarac[(dfCarac[\"Fecha\"] >=  dtIniPoda.date()) & (dfCarac[\"Fecha\"] <= dtFinPoda.date())]"
   ]
  },
  {
   "cell_type": "code",
   "execution_count": 21,
   "id": "b6e367b7",
   "metadata": {},
   "outputs": [],
   "source": [
    "data_weather = pd.ExcelFile('D:/Proyectos GitHub/Python/Datos/Datos Climaticos Viru Palto.xlsx')\n",
    "df_weather = data_weather.parse('TABLA')  \n",
    "data_weather.close()"
   ]
  },
  {
   "cell_type": "code",
   "execution_count": 22,
   "id": "3d586700",
   "metadata": {},
   "outputs": [],
   "source": [
    "df_weather = df_weather[df_weather['Año'] == 2019]\n",
    "df_weather = df_weather[(df_weather['Fecha'] >= dFechaInicio) & (df_weather['Fecha'] <= dFechaFin)]\n",
    "df_weather.reset_index(drop = True, inplace = True)"
   ]
  },
  {
   "cell_type": "code",
   "execution_count": 23,
   "id": "339b2bab",
   "metadata": {},
   "outputs": [],
   "source": [
    "df_weather = df_weather[['Fecha','ET(mm).','Tº MIN/DIA (°C)','Tº MAX/DIA (°C)','Rad. Solar Prom.','HUMEDAD PROM.', 'T° Prom/Día (°C)','Semana']]\n",
    "df_weather = df_weather.rename(columns = {'ET(mm).' : 'ET', \n",
    "                                      'Tº MIN/DIA (°C)' : 'T_MIN',\n",
    "                                     'Tº MAX/DIA (°C)': 'T_MAX',\n",
    "                                     'Rad. Solar Prom.' : 'RS_PROM',\n",
    "                                     'HUMEDAD PROM.': 'HM_PROM',\n",
    "                                      'T° Prom/Día (°C)': 'TMP_PROM',\n",
    "                                         'Semana': 'Semana'})"
   ]
  },
  {
   "cell_type": "code",
   "execution_count": null,
   "id": "d5c9ebe5",
   "metadata": {},
   "outputs": [],
   "source": [
    "arrPlagas = []\n",
    "dfPlagasElegidas = dfPoda[dfPoda['Plaga'] == 'OLYGONICHUS PUNICAE, OLIGONYCHUS YOTHERSI']\n",
    "dfFilter = dfPlagasElegidas\n",
    "arrFiltrados = dfPlagasElegidas['Filtrado'].unique()\n",
    "#dfFilter = df\n",
    "dfCorrexLote = pd.DataFrame(columns=['Filtrado', 'Turno', 'Lote', 'Plaga','Caracteristica'])\n",
    "iContador = 0\n",
    "for filtrado in arrFiltrados:\n",
    "    dfFiltrado = dfFilter[dfFilter['Filtrado'] == filtrado]\n",
    "    arrTurno = dfFiltrado['Turno'].unique()\n",
    "    for turno in arrTurno:\n",
    "        dfTurno = dfFiltrado[dfFiltrado['Turno'] == turno]\n",
    "        arrLote = dfTurno['Lote'].unique()\n",
    "        for lote in arrLote:  \n",
    "            dfLote = dfTurno[dfTurno['Lote'] == lote]\n",
    "            arrPlagaxLote = dfLote['Plaga'].unique()\n",
    "            for plaga in arrPlagaxLote:\n",
    "                dfPlaga = dfLote[dfLote['Plaga'] == plaga]\n",
    "                arrPlagaxCarac = dfPlaga['Caracteristica'].unique()\n",
    "                for caracteristica in arrPlagaxCarac:\n",
    "                    dfCarac = dfPlaga[dfPlaga['Caracteristica'] == caracteristica]\n",
    "                    dfCarac = dfCarac.sort_values(by=['Fecha'])\n",
    "         \n",
    "                    dfCarac = dfCarac.groupby(['Fecha','Fundo','Filtrado','Turno','Plaga','Caracteristica'])['Grado'].sum().reset_index()\n",
    "                    \n",
    "                    fl_df_weather = df_weather[df_weather['Fecha'].isin(dfCarac['Fecha'])]\n",
    "                    fl_df_weather = fl_df_weather.sort_values(by=['Fecha'])\n",
    "                    fl_df_weather.reset_index(drop = True, inplace = True)\n",
    "                    fl_df_weather = fl_df_weather.rename(columns = {'Fecha' : 'FechaClima'})\n",
    "                    df_union = fl_df_weather.join(dfCarac)\n",
    "                 \n",
    "                    # Filtrar el dataset por las variables que se usarán\n",
    "                    #df_union = df_union[['Fecha','ET','TMP_PROM','T_MIN','T_MAX','RS_PROM','HM_PROM','Grado']]        \n",
    "                    df_union = df_union[['Fecha','ET','TMP_PROM','RS_PROM','HM_PROM','Grado']]   \n",
    "                    \n",
    "                    df_union[[\"Grado\"]] = df_union[[\"Grado\"]].apply(pd.to_numeric)\n",
    "                    #print(df_union)\n",
    "                \n",
    "                    dfCorrelacion = df_union.corr().abs()\n",
    "                    \n",
    "                    dfCorrelacion_index = dfCorrelacion[dfCorrelacion['Grado'] > 0.60]\n",
    "\n",
    "                    if dfCorrelacion_index.shape[0] > 1 and df_union.shape[0] > 5:   \n",
    "                        \n",
    "                        dfCorrexLote = dfCorrexLote.append({'Filtrado': filtrado,'Turno': turno,'Lote' : lote, 'Plaga': plaga,'Caracteristica': caracteristica},ignore_index=True)\n",
    "                        arrPlagas.append(plaga + ' ' + caracteristica)\n",
    "                        #Creando Mapa de Calor\n",
    "                        sns.set()\n",
    "                        \n",
    "                        print('------------------------------------------------------------')\n",
    "                        print('Lugar: Filtrado {} - Turno {} - Lote {}'.format(filtrado,turno, lote))\n",
    "                        print('Plaga: ', plaga)\n",
    "                        print('Caracteristica: ', caracteristica)      \n",
    "                        \n",
    "                        print('------------------------------------------------------------')\n",
    "                        \n",
    "                        print(df_union)\n",
    "                        \n",
    "                        ax = sns.heatmap(dfCorrelacion, annot = True)\n",
    "                        iContador = iContador + 1\n",
    "                        plt.title('{}'.format(caracteristica), fontdict = { 'fontsize' : '15'})\n",
    "                        #plt.show()\n",
    "                        \n",
    "                        # Gráfico de distribución para cada variable numérica\n",
    "                        # ==============================================================================\n",
    "                        # Ajustar número de subplots en función del número de columnas\n",
    "\n",
    "                        fig, axes = plt.subplots(nrows=3, ncols=2, figsize=(11, 5))\n",
    "                        axes = axes.flat\n",
    "                        columnas_numeric = df_union[['ET','TMP_PROM','RS_PROM','HM_PROM','Grado']].select_dtypes(include=['float64', 'int']).columns\n",
    "\n",
    "                        for i, colum in enumerate(columnas_numeric):\n",
    "                            sns.histplot(\n",
    "                                data    = df_union[['ET','TMP_PROM','RS_PROM','HM_PROM','Grado']],\n",
    "                                x       = colum,\n",
    "                                stat    = \"count\",\n",
    "                                kde     = True,\n",
    "                                color   = (list(plt.rcParams['axes.prop_cycle'])*2)[i][\"color\"],\n",
    "                                line_kws= {'linewidth': 2},\n",
    "                                alpha   = 0.3,\n",
    "                                ax      = axes[i]\n",
    "                            )\n",
    "                            axes[i].set_title(colum, fontsize = 10, fontweight = \"bold\")\n",
    "                            axes[i].tick_params(labelsize = 8)\n",
    "                            axes[i].set_xlabel(\"\")\n",
    "\n",
    "\n",
    "\n",
    "                        fig.tight_layout()\n",
    "                        plt.subplots_adjust(top = 0.9)\n",
    "                        fig.suptitle('Distribución variables numéricas', fontsize = 10, fontweight = \"bold\");\n",
    "\n",
    "                        plt.show()\n",
    "                        \n",
    "                        "
   ]
  },
  {
   "cell_type": "code",
   "execution_count": 24,
   "id": "dfe80865",
   "metadata": {},
   "outputs": [],
   "source": [
    "# Preprocesado y modelado\n",
    "# ==============================================================================\n",
    "from scipy.stats import pearsonr\n",
    "from sklearn.linear_model import LinearRegression\n",
    "from sklearn.model_selection import train_test_split\n",
    "from sklearn.metrics import r2_score\n",
    "from sklearn.metrics import mean_squared_error\n",
    "import statsmodels.api as sm\n",
    "import statsmodels.formula.api as smf"
   ]
  },
  {
   "cell_type": "code",
   "execution_count": null,
   "id": "46821652",
   "metadata": {},
   "outputs": [],
   "source": [
    "data_weather = pd.ExcelFile('D:/Proyectos GitHub/Python/Datos/Datos Climaticos Viru Palto.xlsx')\n",
    "df_weather = data_weather.parse('TABLA')  \n",
    "data_weather.close()"
   ]
  },
  {
   "cell_type": "code",
   "execution_count": null,
   "id": "0348433c",
   "metadata": {},
   "outputs": [],
   "source": [
    "df_weather = df_weather[df_weather['Año'] == 2019]\n",
    "df_weather = df_weather[(df_weather['Fecha'] >= '2019-01-01') & (df_weather['Fecha'] <= '2019-12-31')]\n",
    "df_weather.reset_index(drop = True, inplace = True)"
   ]
  },
  {
   "cell_type": "code",
   "execution_count": null,
   "id": "cee9827b",
   "metadata": {},
   "outputs": [],
   "source": [
    "df_weather = df_weather[['Fecha','ET(mm).','Tº MIN/DIA (°C)','Tº MAX/DIA (°C)','Rad. Solar Prom.','HUMEDAD PROM.', 'T° Prom/Día (°C)','Semana']]\n",
    "df_weather = df_weather.rename(columns = {'ET(mm).' : 'ET', \n",
    "                                     'Rad. Solar Prom.' : 'RS_PROM',\n",
    "                                     'HUMEDAD PROM.': 'HM_PROM',\n",
    "                                      'T° Prom/Día (°C)': 'TMP_PROM',\n",
    "                                         'Semana': 'Semana'})"
   ]
  },
  {
   "cell_type": "code",
   "execution_count": null,
   "id": "249ac079",
   "metadata": {},
   "outputs": [],
   "source": [
    "import pickle"
   ]
  },
  {
   "cell_type": "code",
   "execution_count": null,
   "id": "abfbafbc",
   "metadata": {},
   "outputs": [],
   "source": [
    "arrPlagas = []\n",
    "dfFilter = dfPoda[dfPoda['Plaga'] == 'OLYGONICHUS PUNICAE, OLIGONYCHUS YOTHERSI']\n",
    "arrFiltrados = dfFilter[\"Filtrado\"].unique()\n",
    "for filtrado in arrFiltrados:\n",
    "    dfFiltrado = dfFilter[dfFilter['Filtrado'] == filtrado]\n",
    "    arrTurno = dfFiltrado['Turno'].unique()\n",
    "    for turno in arrTurno:\n",
    "        dfTurno = dfFiltrado[dfFiltrado['Turno'] == turno]\n",
    "        arrLote = dfTurno['Lote'].unique()\n",
    "        for lote in arrLote:  \n",
    "            dfLote = dfTurno[dfTurno['Lote'] == lote]\n",
    "            arrPlagaxLote = dfLote['Plaga'].unique()\n",
    "            for plaga in arrPlagaxLote:\n",
    "                dfPlaga = dfLote[dfLote['Plaga'] == plaga]\n",
    "                arrPlagaxCarac = dfPlaga['Caracteristica'].unique()\n",
    "                for caracteristica in arrPlagaxCarac:\n",
    "                    dfCarac = dfPlaga[dfPlaga['Caracteristica'] == caracteristica]\n",
    "                    dfCarac = dfCarac.sort_values(by=['Fecha'])\n",
    "         \n",
    "                    dfCarac = dfCarac.groupby(['Fecha','Fundo','Filtrado','Turno','Plaga','Caracteristica'])['Grado'].sum().reset_index()\n",
    "                    \n",
    "                    fl_df_weather = df_weather[df_weather['Fecha'].isin(dfCarac['Fecha'])]\n",
    "                    fl_df_weather = fl_df_weather.sort_values(by=['Fecha'])\n",
    "                    fl_df_weather.reset_index(drop = True, inplace = True)\n",
    "                    fl_df_weather = fl_df_weather.rename(columns = {'Fecha' : 'FechaClima'})\n",
    "                    df_union = fl_df_weather.join(dfCarac)\n",
    "                 \n",
    "                    df_union = df_union[['Fecha','ET','TMP_PROM','RS_PROM','HM_PROM','Grado']]        \n",
    "                                   \n",
    "                    df_union[[\"Grado\"]] = df_union[[\"Grado\"]].apply(pd.to_numeric)\n",
    "                \n",
    "                    dfCorrelacion = df_union.corr().abs()\n",
    "                    \n",
    "                    \n",
    "                    dfCorrelacion_index = dfCorrelacion[dfCorrelacion['Grado'] > 0.90]                \n",
    "                    \n",
    "                    if dfCorrelacion_index.shape[0] > 1:   \n",
    "                        \n",
    "                        arrColumns = dfCorrelacion_index.columns\n",
    "                        arrColumnsUnion = []\n",
    "                        ###########################################\n",
    "                        for column in arrColumns:\n",
    "                            if (dfCorrelacion_index[column]['Grado'] > 0.90) & (column != 'Grado'):\n",
    "                                    arrColumnsUnion.append(column)\n",
    "                        ############################################  \n",
    "                        \n",
    "                         #Creando regresión lineal\n",
    "                        df_union = df_union.drop('Fecha' ,axis=1)\n",
    "                        df_union = df_union.fillna(df_union.mean())\n",
    "                       \n",
    "                      \n",
    "                        if df_union[arrColumnsUnion].shape[0] > 9:   \n",
    "                            print('**********************************************************************************************************************')\n",
    "                            # División de los datos en train y test\n",
    "                            # ==============================================================================\n",
    "                            print('Lugar: Filtrado {} - Turno {} - Lote {}'.format(filtrado,turno, lote))\n",
    "                            print('Plaga: ', plaga)\n",
    "                            print('Caracteristica: ', caracteristica)\n",
    "                            print('Número de datos: ',  df_union[arrColumnsUnion].shape[0])\n",
    "                            print('Variables X:', arrColumnsUnion)\n",
    "                            print(\"\\n\"*2)\n",
    "                            \n",
    "                            X = df_union[arrColumnsUnion]\n",
    "                            y = df_union['Grado']\n",
    "\n",
    "                            X_train, X_test, y_train, y_test = train_test_split(\n",
    "                                                                    X,\n",
    "                                                                    y.values.reshape(-1,1),\n",
    "                                                                    train_size   = 0.8,\n",
    "                                                                    random_state = 1234,\n",
    "                                                                    shuffle      = True\n",
    "                                                                )\n",
    "                            # Creación del modelo utilizando matrices como en scikitlearn\n",
    "                            # ==============================================================================\n",
    "                            # A la matriz de predictores se le tiene que añadir una columna de 1s para el intercept del modelo\n",
    "                            X_train = sm.add_constant(X_train, prepend=True)\n",
    "                            modelo = sm.OLS(endog=y_train, exog=X_train,)\n",
    "                            modelo = modelo.fit()\n",
    "                            print(modelo.summary())\n",
    "                            \n",
    "                            print('\\n Coeficientes')\n",
    "                            print(modelo.params)\n",
    "                            \n",
    "                            # Intervalos de confianza para los coeficientes del modelo\n",
    "                            # ==============================================================================\n",
    "                            intervalos_ci = modelo.conf_int(alpha=0.05)\n",
    "                            intervalos_ci.columns = ['2.5%', '97.5%']\n",
    "                            \n",
    "                            print('\\nIntervalos de confianza: ')\n",
    "                            print(intervalos_ci)\n",
    "                            \n",
    "                            \n",
    "                            print('\\n Diagnostico de residuos:')\n",
    "                            # Diagnóstico errores (residuos) de las predicciones de entrenamiento\n",
    "                            # ==============================================================================\n",
    "                            y_train = y_train.flatten()\n",
    "                            prediccion_train = modelo.predict(exog = X_train)\n",
    "                            residuos_train   = prediccion_train - y_train\n",
    "                            \n",
    "                            # Gráficos\n",
    "                            # ==============================================================================\n",
    "                            fig, axes = plt.subplots(nrows=3, ncols=2, figsize=(9, 8))\n",
    "\n",
    "                            axes[0, 0].scatter(y_train, prediccion_train, edgecolors=(0, 0, 0), alpha = 0.4)\n",
    "                            axes[0, 0].plot([y_train.min(), y_train.max()], [y_train.min(), y_train.max()],\n",
    "                                            'k--', color = 'black', lw=2)\n",
    "                            axes[0, 0].set_title('Valor predicho vs valor real', fontsize = 10, fontweight = \"bold\")\n",
    "                            axes[0, 0].set_xlabel('Real')\n",
    "                            axes[0, 0].set_ylabel('Predicción')\n",
    "                            axes[0, 0].tick_params(labelsize = 7)\n",
    "\n",
    "                            axes[0, 1].scatter(list(range(len(y_train))), residuos_train,\n",
    "                                               edgecolors=(0, 0, 0), alpha = 0.4)\n",
    "                            axes[0, 1].axhline(y = 0, linestyle = '--', color = 'black', lw=2)\n",
    "                            axes[0, 1].set_title('Residuos del modelo', fontsize = 10, fontweight = \"bold\")\n",
    "                            axes[0, 1].set_xlabel('id')\n",
    "                            axes[0, 1].set_ylabel('Residuo')\n",
    "                            axes[0, 1].tick_params(labelsize = 7)\n",
    "\n",
    "                            sns.histplot(\n",
    "                                data    = residuos_train,\n",
    "                                stat    = \"density\",\n",
    "                                kde     = True,\n",
    "                                line_kws= {'linewidth': 1},\n",
    "                                color   = \"firebrick\",\n",
    "                                alpha   = 0.3,\n",
    "                                ax      = axes[1, 0]\n",
    "                            )\n",
    "\n",
    "                            axes[1, 0].set_title('Distribución residuos del modelo', fontsize = 10,\n",
    "                                                 fontweight = \"bold\")\n",
    "                            axes[1, 0].set_xlabel(\"Residuo\")\n",
    "                            axes[1, 0].tick_params(labelsize = 7)\n",
    "\n",
    "\n",
    "                            sm.qqplot(\n",
    "                                residuos_train,\n",
    "                                fit   = True,\n",
    "                                line  = 'q',\n",
    "                                ax    = axes[1, 1], \n",
    "                                color = 'firebrick',\n",
    "                                alpha = 0.4,\n",
    "                                lw    = 2\n",
    "                            )\n",
    "                            axes[1, 1].set_title('Q-Q residuos del modelo', fontsize = 10, fontweight = \"bold\")\n",
    "                            axes[1, 1].tick_params(labelsize = 7)\n",
    "\n",
    "                            axes[2, 0].scatter(prediccion_train, residuos_train,\n",
    "                                               edgecolors=(0, 0, 0), alpha = 0.4)\n",
    "                            axes[2, 0].axhline(y = 0, linestyle = '--', color = 'black', lw=2)\n",
    "                            axes[2, 0].set_title('Residuos del modelo vs predicción', fontsize = 10, fontweight = \"bold\")\n",
    "                            axes[2, 0].set_xlabel('Predicción')\n",
    "                            axes[2, 0].set_ylabel('Residuo')\n",
    "                            axes[2, 0].tick_params(labelsize = 7)\n",
    "\n",
    "                            # Se eliminan los axes vacíos\n",
    "                            fig.delaxes(axes[2,1])\n",
    "\n",
    "                            fig.tight_layout()\n",
    "                            plt.subplots_adjust(top=0.9)\n",
    "                            fig.suptitle('Diagnóstico residuos', fontsize = 12, fontweight = \"bold\");\n",
    "                            plt.show()\n",
    "                            \n",
    "                            if lote == \"2016\":\n",
    "                                filename='model_olygonichus_adultos.pkl'\n",
    "                                pickle.dump(modelo, open(filename, 'wb'))\n",
    "                            \n",
    "                            # Predicciones con intervalo de confianza \n",
    "                            # ==============================================================================\n",
    "                            predicciones = modelo.get_prediction(exog = X_train).summary_frame(alpha=0.05)\n",
    "                            print('\\n Predicciones:')\n",
    "                            print(predicciones.head(4))\n",
    "                            \n",
    "                            # Error de test del modelo \n",
    "                            # ==============================================================================\n",
    "                            X_test = sm.add_constant(X_test, prepend=True)\n",
    "                            predicciones = modelo.predict(exog = X_test)\n",
    "                            rmse = mean_squared_error(\n",
    "                                    y_true  = y_test,\n",
    "                                    y_pred  = predicciones,\n",
    "                                    squared = False\n",
    "                                   )\n",
    "                            print(\"\")\n",
    "                            print(f\"El error (rmse) de test es: {rmse}\")\n",
    "                            \n",
    "                            print(X_test)\n",
    "                            print(y_test)\n",
    "                            \n",
    "                            print(\"\\n\"*2)\n",
    "                            print('**********************************************************************************************************************')\n",
    "                            "
   ]
  },
  {
   "cell_type": "code",
   "execution_count": 26,
   "id": "68b4ed3c",
   "metadata": {},
   "outputs": [
    {
     "data": {
      "text/html": [
       "<div>\n",
       "<style scoped>\n",
       "    .dataframe tbody tr th:only-of-type {\n",
       "        vertical-align: middle;\n",
       "    }\n",
       "\n",
       "    .dataframe tbody tr th {\n",
       "        vertical-align: top;\n",
       "    }\n",
       "\n",
       "    .dataframe thead th {\n",
       "        text-align: right;\n",
       "    }\n",
       "</style>\n",
       "<table border=\"1\" class=\"dataframe\">\n",
       "  <thead>\n",
       "    <tr style=\"text-align: right;\">\n",
       "      <th></th>\n",
       "      <th>Evaluador</th>\n",
       "      <th>Fecha</th>\n",
       "      <th>Fundo</th>\n",
       "      <th>Filtrado</th>\n",
       "      <th>Turno</th>\n",
       "      <th>Lote</th>\n",
       "      <th>Grupo_Plaga</th>\n",
       "      <th>Plaga</th>\n",
       "      <th>Caracteristica</th>\n",
       "      <th>Suma</th>\n",
       "      <th>Grado</th>\n",
       "      <th>Promedio</th>\n",
       "      <th>Porcentaje</th>\n",
       "    </tr>\n",
       "  </thead>\n",
       "  <tbody>\n",
       "    <tr>\n",
       "      <th>3</th>\n",
       "      <td>hhonores</td>\n",
       "      <td>2019-11-01</td>\n",
       "      <td>VIRU - PALTO</td>\n",
       "      <td>10N</td>\n",
       "      <td>F10N</td>\n",
       "      <td>1031</td>\n",
       "      <td>HOJAS</td>\n",
       "      <td>OLYGONICHUS PUNICAE, OLIGONYCHUS YOTHERSI</td>\n",
       "      <td>G° INFESTACIÓN (NINFAS-ADULTOS)</td>\n",
       "      <td>29</td>\n",
       "      <td>1</td>\n",
       "      <td>--</td>\n",
       "      <td>--</td>\n",
       "    </tr>\n",
       "    <tr>\n",
       "      <th>4</th>\n",
       "      <td>tvelasquez</td>\n",
       "      <td>2019-09-10</td>\n",
       "      <td>VIRU - PALTO</td>\n",
       "      <td>10N</td>\n",
       "      <td>F10N</td>\n",
       "      <td>1010</td>\n",
       "      <td>HOJAS</td>\n",
       "      <td>OLYGONICHUS PUNICAE, OLIGONYCHUS YOTHERSI</td>\n",
       "      <td>G° INFESTACIÓN (NINFAS-ADULTOS)</td>\n",
       "      <td>25</td>\n",
       "      <td>1</td>\n",
       "      <td>--</td>\n",
       "      <td>--</td>\n",
       "    </tr>\n",
       "    <tr>\n",
       "      <th>5</th>\n",
       "      <td>acampos</td>\n",
       "      <td>2019-07-03</td>\n",
       "      <td>VIRU - PALTO</td>\n",
       "      <td>10N</td>\n",
       "      <td>F10N</td>\n",
       "      <td>1012</td>\n",
       "      <td>HOJAS</td>\n",
       "      <td>OLYGONICHUS PUNICAE, OLIGONYCHUS YOTHERSI</td>\n",
       "      <td>G° INFESTACIÓN (NINFAS-ADULTOS)</td>\n",
       "      <td>27</td>\n",
       "      <td>1</td>\n",
       "      <td>--</td>\n",
       "      <td>--</td>\n",
       "    </tr>\n",
       "    <tr>\n",
       "      <th>7</th>\n",
       "      <td>mpina</td>\n",
       "      <td>2019-09-26</td>\n",
       "      <td>VIRU - PALTO</td>\n",
       "      <td>10N</td>\n",
       "      <td>F10N</td>\n",
       "      <td>1009</td>\n",
       "      <td>HOJAS</td>\n",
       "      <td>OLYGONICHUS PUNICAE, OLIGONYCHUS YOTHERSI</td>\n",
       "      <td>G° INFESTACIÓN (NINFAS-ADULTOS)</td>\n",
       "      <td>44</td>\n",
       "      <td>2</td>\n",
       "      <td>--</td>\n",
       "      <td>--</td>\n",
       "    </tr>\n",
       "    <tr>\n",
       "      <th>8</th>\n",
       "      <td>fchavez</td>\n",
       "      <td>2019-12-19</td>\n",
       "      <td>VIRU - PALTO</td>\n",
       "      <td>10N</td>\n",
       "      <td>F10N</td>\n",
       "      <td>1012</td>\n",
       "      <td>HOJAS</td>\n",
       "      <td>OLYGONICHUS PUNICAE, OLIGONYCHUS YOTHERSI</td>\n",
       "      <td>G° INFESTACIÓN (NINFAS-ADULTOS)</td>\n",
       "      <td>87</td>\n",
       "      <td>4</td>\n",
       "      <td>--</td>\n",
       "      <td>--</td>\n",
       "    </tr>\n",
       "  </tbody>\n",
       "</table>\n",
       "</div>"
      ],
      "text/plain": [
       "    Evaluador       Fecha         Fundo Filtrado Turno  Lote Grupo_Plaga  \\\n",
       "3    hhonores  2019-11-01  VIRU - PALTO      10N  F10N  1031       HOJAS   \n",
       "4  tvelasquez  2019-09-10  VIRU - PALTO      10N  F10N  1010       HOJAS   \n",
       "5     acampos  2019-07-03  VIRU - PALTO      10N  F10N  1012       HOJAS   \n",
       "7       mpina  2019-09-26  VIRU - PALTO      10N  F10N  1009       HOJAS   \n",
       "8     fchavez  2019-12-19  VIRU - PALTO      10N  F10N  1012       HOJAS   \n",
       "\n",
       "                                       Plaga                   Caracteristica  \\\n",
       "3  OLYGONICHUS PUNICAE, OLIGONYCHUS YOTHERSI  G° INFESTACIÓN (NINFAS-ADULTOS)   \n",
       "4  OLYGONICHUS PUNICAE, OLIGONYCHUS YOTHERSI  G° INFESTACIÓN (NINFAS-ADULTOS)   \n",
       "5  OLYGONICHUS PUNICAE, OLIGONYCHUS YOTHERSI  G° INFESTACIÓN (NINFAS-ADULTOS)   \n",
       "7  OLYGONICHUS PUNICAE, OLIGONYCHUS YOTHERSI  G° INFESTACIÓN (NINFAS-ADULTOS)   \n",
       "8  OLYGONICHUS PUNICAE, OLIGONYCHUS YOTHERSI  G° INFESTACIÓN (NINFAS-ADULTOS)   \n",
       "\n",
       "  Suma Grado Promedio Porcentaje  \n",
       "3   29     1       --         --  \n",
       "4   25     1       --         --  \n",
       "5   27     1       --         --  \n",
       "7   44     2       --         --  \n",
       "8   87     4       --         --  "
      ]
     },
     "execution_count": 26,
     "metadata": {},
     "output_type": "execute_result"
    }
   ],
   "source": [
    "dfPoda.head(5)"
   ]
  },
  {
   "cell_type": "code",
   "execution_count": 27,
   "id": "a3bbe5ae",
   "metadata": {},
   "outputs": [],
   "source": [
    "dfxModelado = dfPoda[(dfPoda[\"Filtrado\"] == \"20\") & (dfPoda[\"Turno\"] == \"F20\") & (dfPoda[\"Lote\"] == \"2016\")]"
   ]
  },
  {
   "cell_type": "code",
   "execution_count": 28,
   "id": "d610cbc8",
   "metadata": {},
   "outputs": [
    {
     "data": {
      "text/html": [
       "<div>\n",
       "<style scoped>\n",
       "    .dataframe tbody tr th:only-of-type {\n",
       "        vertical-align: middle;\n",
       "    }\n",
       "\n",
       "    .dataframe tbody tr th {\n",
       "        vertical-align: top;\n",
       "    }\n",
       "\n",
       "    .dataframe thead th {\n",
       "        text-align: right;\n",
       "    }\n",
       "</style>\n",
       "<table border=\"1\" class=\"dataframe\">\n",
       "  <thead>\n",
       "    <tr style=\"text-align: right;\">\n",
       "      <th></th>\n",
       "      <th>Evaluador</th>\n",
       "      <th>Fecha</th>\n",
       "      <th>Fundo</th>\n",
       "      <th>Filtrado</th>\n",
       "      <th>Turno</th>\n",
       "      <th>Lote</th>\n",
       "      <th>Grupo_Plaga</th>\n",
       "      <th>Plaga</th>\n",
       "      <th>Caracteristica</th>\n",
       "      <th>Suma</th>\n",
       "      <th>Grado</th>\n",
       "      <th>Promedio</th>\n",
       "      <th>Porcentaje</th>\n",
       "    </tr>\n",
       "  </thead>\n",
       "  <tbody>\n",
       "    <tr>\n",
       "      <th>9061</th>\n",
       "      <td>mmarquina</td>\n",
       "      <td>2019-12-26</td>\n",
       "      <td>VIRU - PALTO</td>\n",
       "      <td>20</td>\n",
       "      <td>F20</td>\n",
       "      <td>2016</td>\n",
       "      <td>HOJAS</td>\n",
       "      <td>OLYGONICHUS PUNICAE, OLIGONYCHUS YOTHERSI</td>\n",
       "      <td>G° INFESTACIÓN (NINFAS-ADULTOS)</td>\n",
       "      <td>73</td>\n",
       "      <td>3</td>\n",
       "      <td>--</td>\n",
       "      <td>--</td>\n",
       "    </tr>\n",
       "    <tr>\n",
       "      <th>9156</th>\n",
       "      <td>kobeso</td>\n",
       "      <td>2019-11-01</td>\n",
       "      <td>VIRU - PALTO</td>\n",
       "      <td>20</td>\n",
       "      <td>F20</td>\n",
       "      <td>2016</td>\n",
       "      <td>HOJAS</td>\n",
       "      <td>OLYGONICHUS PUNICAE, OLIGONYCHUS YOTHERSI</td>\n",
       "      <td>G° INFESTACIÓN (NINFAS-ADULTOS)</td>\n",
       "      <td>26</td>\n",
       "      <td>1</td>\n",
       "      <td>--</td>\n",
       "      <td>--</td>\n",
       "    </tr>\n",
       "    <tr>\n",
       "      <th>9284</th>\n",
       "      <td>lvillanueva</td>\n",
       "      <td>2019-11-21</td>\n",
       "      <td>VIRU - PALTO</td>\n",
       "      <td>20</td>\n",
       "      <td>F20</td>\n",
       "      <td>2016</td>\n",
       "      <td>HOJAS</td>\n",
       "      <td>OLYGONICHUS PUNICAE, OLIGONYCHUS YOTHERSI</td>\n",
       "      <td>G° INFESTACIÓN (NINFAS-ADULTOS)</td>\n",
       "      <td>32</td>\n",
       "      <td>1</td>\n",
       "      <td>--</td>\n",
       "      <td>--</td>\n",
       "    </tr>\n",
       "  </tbody>\n",
       "</table>\n",
       "</div>"
      ],
      "text/plain": [
       "        Evaluador       Fecha         Fundo Filtrado Turno  Lote Grupo_Plaga  \\\n",
       "9061    mmarquina  2019-12-26  VIRU - PALTO       20   F20  2016       HOJAS   \n",
       "9156       kobeso  2019-11-01  VIRU - PALTO       20   F20  2016       HOJAS   \n",
       "9284  lvillanueva  2019-11-21  VIRU - PALTO       20   F20  2016       HOJAS   \n",
       "\n",
       "                                          Plaga  \\\n",
       "9061  OLYGONICHUS PUNICAE, OLIGONYCHUS YOTHERSI   \n",
       "9156  OLYGONICHUS PUNICAE, OLIGONYCHUS YOTHERSI   \n",
       "9284  OLYGONICHUS PUNICAE, OLIGONYCHUS YOTHERSI   \n",
       "\n",
       "                       Caracteristica Suma Grado Promedio Porcentaje  \n",
       "9061  G° INFESTACIÓN (NINFAS-ADULTOS)   73     3       --         --  \n",
       "9156  G° INFESTACIÓN (NINFAS-ADULTOS)   26     1       --         --  \n",
       "9284  G° INFESTACIÓN (NINFAS-ADULTOS)   32     1       --         --  "
      ]
     },
     "execution_count": 28,
     "metadata": {},
     "output_type": "execute_result"
    }
   ],
   "source": [
    "dfxModelado.head(3)"
   ]
  },
  {
   "cell_type": "code",
   "execution_count": 29,
   "id": "8b69a7c3",
   "metadata": {},
   "outputs": [],
   "source": [
    "dfCarac = dfxModelado.sort_values(by=['Fecha'])\n",
    "\n",
    "dfCarac = dfCarac.groupby(['Fecha','Fundo','Filtrado','Turno','Plaga','Caracteristica'])['Grado'].sum().reset_index()\n",
    "\n",
    "fl_df_weather = df_weather[df_weather['Fecha'].isin(dfCarac['Fecha'])]\n",
    "fl_df_weather = fl_df_weather.sort_values(by=['Fecha'])\n",
    "fl_df_weather.reset_index(drop = True, inplace = True)\n",
    "fl_df_weather = fl_df_weather.rename(columns = {'Fecha' : 'FechaClima'})\n",
    "df_union = fl_df_weather.join(dfCarac)\n",
    "\n",
    "df_union = df_union[['Fecha','ET','TMP_PROM','RS_PROM','HM_PROM','Grado']]        \n",
    "\n",
    "df_union[[\"Grado\"]] = df_union[[\"Grado\"]].apply(pd.to_numeric)\n",
    "\n",
    "dfCorrelacion = df_union.corr().abs()"
   ]
  },
  {
   "cell_type": "code",
   "execution_count": 30,
   "id": "6b030c2d",
   "metadata": {},
   "outputs": [
    {
     "data": {
      "text/html": [
       "<div>\n",
       "<style scoped>\n",
       "    .dataframe tbody tr th:only-of-type {\n",
       "        vertical-align: middle;\n",
       "    }\n",
       "\n",
       "    .dataframe tbody tr th {\n",
       "        vertical-align: top;\n",
       "    }\n",
       "\n",
       "    .dataframe thead th {\n",
       "        text-align: right;\n",
       "    }\n",
       "</style>\n",
       "<table border=\"1\" class=\"dataframe\">\n",
       "  <thead>\n",
       "    <tr style=\"text-align: right;\">\n",
       "      <th></th>\n",
       "      <th>ET</th>\n",
       "      <th>TMP_PROM</th>\n",
       "      <th>RS_PROM</th>\n",
       "      <th>HM_PROM</th>\n",
       "      <th>Grado</th>\n",
       "    </tr>\n",
       "  </thead>\n",
       "  <tbody>\n",
       "    <tr>\n",
       "      <th>ET</th>\n",
       "      <td>1.000000</td>\n",
       "      <td>0.197164</td>\n",
       "      <td>0.990442</td>\n",
       "      <td>0.100725</td>\n",
       "      <td>0.152560</td>\n",
       "    </tr>\n",
       "    <tr>\n",
       "      <th>TMP_PROM</th>\n",
       "      <td>0.197164</td>\n",
       "      <td>1.000000</td>\n",
       "      <td>0.110758</td>\n",
       "      <td>0.402649</td>\n",
       "      <td>0.922621</td>\n",
       "    </tr>\n",
       "    <tr>\n",
       "      <th>RS_PROM</th>\n",
       "      <td>0.990442</td>\n",
       "      <td>0.110758</td>\n",
       "      <td>1.000000</td>\n",
       "      <td>0.052159</td>\n",
       "      <td>0.071982</td>\n",
       "    </tr>\n",
       "    <tr>\n",
       "      <th>HM_PROM</th>\n",
       "      <td>0.100725</td>\n",
       "      <td>0.402649</td>\n",
       "      <td>0.052159</td>\n",
       "      <td>1.000000</td>\n",
       "      <td>0.361936</td>\n",
       "    </tr>\n",
       "    <tr>\n",
       "      <th>Grado</th>\n",
       "      <td>0.152560</td>\n",
       "      <td>0.922621</td>\n",
       "      <td>0.071982</td>\n",
       "      <td>0.361936</td>\n",
       "      <td>1.000000</td>\n",
       "    </tr>\n",
       "  </tbody>\n",
       "</table>\n",
       "</div>"
      ],
      "text/plain": [
       "                ET  TMP_PROM   RS_PROM   HM_PROM     Grado\n",
       "ET        1.000000  0.197164  0.990442  0.100725  0.152560\n",
       "TMP_PROM  0.197164  1.000000  0.110758  0.402649  0.922621\n",
       "RS_PROM   0.990442  0.110758  1.000000  0.052159  0.071982\n",
       "HM_PROM   0.100725  0.402649  0.052159  1.000000  0.361936\n",
       "Grado     0.152560  0.922621  0.071982  0.361936  1.000000"
      ]
     },
     "execution_count": 30,
     "metadata": {},
     "output_type": "execute_result"
    }
   ],
   "source": [
    "dfCorrelacion"
   ]
  },
  {
   "cell_type": "code",
   "execution_count": 34,
   "id": "6bb4c548",
   "metadata": {},
   "outputs": [
    {
     "name": "stdout",
     "output_type": "stream",
     "text": [
      "**********************************************************************************************************************\n",
      "Lugar: Filtrado 20 - Turno F20 - Lote 2016\n",
      "Número de datos:  10\n",
      "Variables X: ['TMP_PROM']\n",
      "\n",
      "\n",
      "\n"
     ]
    }
   ],
   "source": [
    "dfCorrelacion_index = dfCorrelacion[dfCorrelacion['Grado'] > 0.90]      \n",
    "arrColumns = dfCorrelacion_index.columns\n",
    "arrColumnsUnion = []\n",
    "###########################################\n",
    "for column in arrColumns:\n",
    "    if (dfCorrelacion_index[column]['Grado'] > 0.90) & (column != 'Grado'):\n",
    "            arrColumnsUnion.append(column)\n",
    "############################################  \n",
    "\n",
    " #Creando regresión lineal\n",
    "#df_union = df_union.drop('Fecha' ,axis=1)\n",
    "df_union = df_union.fillna(df_union.mean())\n",
    "\n",
    "\n",
    "if df_union[arrColumnsUnion].shape[0] > 9:   \n",
    "    print('**********************************************************************************************************************')\n",
    "    # División de los datos en train y test\n",
    "    # ==============================================================================\n",
    "    print('Lugar: Filtrado {} - Turno {} - Lote {}'.format(\"20\",\"F20\", \"2016\"))\n",
    "    #print('Plaga: ', plaga)\n",
    "    #print('Caracteristica: ', caracteristica)\n",
    "    print('Número de datos: ',  df_union[arrColumnsUnion].shape[0])\n",
    "    print('Variables X:', arrColumnsUnion)\n",
    "    print(\"\\n\"*2)\n",
    "\n",
    "    X = df_union[arrColumnsUnion]\n",
    "    y = df_union['Grado']\n",
    "\n",
    "    X_train, X_test, y_train, y_test = train_test_split(\n",
    "                                            X,\n",
    "                                            y.values.reshape(-1,1),\n",
    "                                            train_size   = 0.8,\n",
    "                                            random_state = 1234,\n",
    "                                            shuffle      = True\n",
    "                                        )\n",
    "   \n",
    "    modelo = LinearRegression()\n",
    "    modelo = modelo.fit(X_train, y_train)\n",
    " \n",
    "\n"
   ]
  },
  {
   "cell_type": "code",
   "execution_count": 35,
   "id": "6aaddce9",
   "metadata": {},
   "outputs": [
    {
     "data": {
      "text/plain": [
       "array([[2],\n",
       "       [1]], dtype=int64)"
      ]
     },
     "execution_count": 35,
     "metadata": {},
     "output_type": "execute_result"
    }
   ],
   "source": [
    "y_test"
   ]
  },
  {
   "cell_type": "code",
   "execution_count": 36,
   "id": "4e3fb275",
   "metadata": {},
   "outputs": [
    {
     "data": {
      "text/html": [
       "<div>\n",
       "<style scoped>\n",
       "    .dataframe tbody tr th:only-of-type {\n",
       "        vertical-align: middle;\n",
       "    }\n",
       "\n",
       "    .dataframe tbody tr th {\n",
       "        vertical-align: top;\n",
       "    }\n",
       "\n",
       "    .dataframe thead th {\n",
       "        text-align: right;\n",
       "    }\n",
       "</style>\n",
       "<table border=\"1\" class=\"dataframe\">\n",
       "  <thead>\n",
       "    <tr style=\"text-align: right;\">\n",
       "      <th></th>\n",
       "      <th>TMP_PROM</th>\n",
       "    </tr>\n",
       "  </thead>\n",
       "  <tbody>\n",
       "    <tr>\n",
       "      <th>7</th>\n",
       "      <td>20.645833</td>\n",
       "    </tr>\n",
       "    <tr>\n",
       "      <th>2</th>\n",
       "      <td>19.766667</td>\n",
       "    </tr>\n",
       "  </tbody>\n",
       "</table>\n",
       "</div>"
      ],
      "text/plain": [
       "    TMP_PROM\n",
       "7  20.645833\n",
       "2  19.766667"
      ]
     },
     "execution_count": 36,
     "metadata": {},
     "output_type": "execute_result"
    }
   ],
   "source": [
    "X_test"
   ]
  },
  {
   "cell_type": "code",
   "execution_count": 2,
   "id": "a0247cdc",
   "metadata": {},
   "outputs": [],
   "source": [
    "import pickle"
   ]
  },
  {
   "cell_type": "code",
   "execution_count": 37,
   "id": "e613dcca",
   "metadata": {},
   "outputs": [],
   "source": [
    "filename='model_olygonichus_adultos.pkl'\n",
    "pickle.dump(modelo, open(filename, 'wb'))"
   ]
  },
  {
   "cell_type": "code",
   "execution_count": 38,
   "id": "d6b953b0",
   "metadata": {},
   "outputs": [],
   "source": [
    "loaded_model = pickle.load(open(filename, 'rb'))\n",
    "result = loaded_model.predict(X_test)"
   ]
  },
  {
   "cell_type": "code",
   "execution_count": 39,
   "id": "cfad486b",
   "metadata": {},
   "outputs": [
    {
     "data": {
      "text/plain": [
       "array([[2.1160841 ],\n",
       "       [1.52199657]])"
      ]
     },
     "execution_count": 39,
     "metadata": {},
     "output_type": "execute_result"
    }
   ],
   "source": [
    "result"
   ]
  },
  {
   "cell_type": "code",
   "execution_count": null,
   "id": "353c3b0e",
   "metadata": {},
   "outputs": [],
   "source": [
    "to_predict_list = list(map(float, [\"20\"]))\n",
    "to_predict_list"
   ]
  },
  {
   "cell_type": "code",
   "execution_count": null,
   "id": "569b5552",
   "metadata": {},
   "outputs": [],
   "source": [
    "to_predict = np.array(to_predict_list).reshape(-1, 1)\n",
    "to_predict"
   ]
  },
  {
   "cell_type": "code",
   "execution_count": null,
   "id": "e83503d5",
   "metadata": {},
   "outputs": [],
   "source": [
    "loaded_model.predict(to_predict).reshape(-1, 1)"
   ]
  },
  {
   "cell_type": "code",
   "execution_count": 41,
   "id": "e0e5a7b0",
   "metadata": {},
   "outputs": [
    {
     "data": {
      "text/plain": [
       "array([[1.67966909]])"
      ]
     },
     "execution_count": 41,
     "metadata": {},
     "output_type": "execute_result"
    }
   ],
   "source": [
    "#loaded_model = pickle.load(open(\"model_olygonichus_adultos.pkl\", \"rb\"))\n",
    "loaded_model.predict([[20]])"
   ]
  },
  {
   "cell_type": "code",
   "execution_count": 5,
   "id": "f1414e3b",
   "metadata": {},
   "outputs": [],
   "source": [
    "import os\n",
    "\n",
    "scores = {} # scores is an empty dict already\n",
    "target = \"model_olygonichus_adultos.pkl\"\n",
    "if os.path.getsize(target) > 0:      \n",
    "    with open(target, \"rb\") as f:\n",
    "        unpickler = pickle.Unpickler(f)\n",
    "        # if file is not empty scores will be equal\n",
    "        # to the value unpickled\n",
    "        scores = unpickler.load()"
   ]
  },
  {
   "cell_type": "code",
   "execution_count": 6,
   "id": "58409e44",
   "metadata": {},
   "outputs": [
    {
     "data": {
      "text/plain": [
       "{}"
      ]
     },
     "execution_count": 6,
     "metadata": {},
     "output_type": "execute_result"
    }
   ],
   "source": [
    "scores"
   ]
  },
  {
   "cell_type": "code",
   "execution_count": null,
   "id": "6ed1a5e1",
   "metadata": {},
   "outputs": [],
   "source": []
  }
 ],
 "metadata": {
  "kernelspec": {
   "display_name": "Python 3 (ipykernel)",
   "language": "python",
   "name": "python3"
  },
  "language_info": {
   "codemirror_mode": {
    "name": "ipython",
    "version": 3
   },
   "file_extension": ".py",
   "mimetype": "text/x-python",
   "name": "python",
   "nbconvert_exporter": "python",
   "pygments_lexer": "ipython3",
   "version": "3.9.6"
  }
 },
 "nbformat": 4,
 "nbformat_minor": 5
}
