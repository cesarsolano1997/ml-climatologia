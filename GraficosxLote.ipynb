{
 "cells": [
  {
   "cell_type": "code",
   "execution_count": 12,
   "metadata": {},
   "outputs": [],
   "source": [
    "#Leer archivos excel"
   ]
  },
  {
   "cell_type": "code",
   "execution_count": 10,
   "metadata": {},
   "outputs": [],
   "source": [
    "import pandas as pd"
   ]
  },
  {
   "cell_type": "code",
   "execution_count": 13,
   "metadata": {},
   "outputs": [],
   "source": [
    "exPlagas = pd.ExcelFile('D:/bibliografia de tesis/Datos/ConsolidadoPlagas_Instalacion_2019.xlsx')"
   ]
  },
  {
   "cell_type": "code",
   "execution_count": 14,
   "metadata": {},
   "outputs": [],
   "source": [
    "dfPlagas = exPlagas.parse('2019')"
   ]
  },
  {
   "cell_type": "code",
   "execution_count": 28,
   "metadata": {},
   "outputs": [
    {
     "data": {
      "text/plain": [
       "Index(['Evaluador', 'Fecha', 'FUNDO', 'FILTRADO', 'TURNO', 'LOTE',\n",
       "       'des_nivel1', 'des_nivel2', 'Caracteristica', 'Suma', 'Grado',\n",
       "       'Promedio', 'Porcentaje'],\n",
       "      dtype='object')"
      ]
     },
     "execution_count": 28,
     "metadata": {},
     "output_type": "execute_result"
    }
   ],
   "source": [
    "dfPlagas.columns"
   ]
  },
  {
   "cell_type": "code",
   "execution_count": 78,
   "metadata": {},
   "outputs": [],
   "source": [
    "dfPlgLt = dfPlagas['LOTE'] == 3001 \n",
    "filtered_df = dfPlagas[dfPlgLt]\n",
    "filtered_df = filtered_df[filtered_df['Fecha'] >= '2019-01-08']\n",
    "filtered_df = filtered_df.drop(['Evaluador','FUNDO','FILTRADO','TURNO', 'Grado', 'Promedio', 'Porcentaje'], axis = 1)"
   ]
  },
  {
   "cell_type": "code",
   "execution_count": 40,
   "metadata": {},
   "outputs": [],
   "source": [
    "import matplotlib.pyplot as plt"
   ]
  },
  {
   "cell_type": "markdown",
   "metadata": {},
   "source": [
    "# ALEURODICUS COCOIS, ALEURODICUS JULEIKAE\n",
    "## N° HOJAS INFESTADAS"
   ]
  },
  {
   "cell_type": "code",
   "execution_count": 81,
   "metadata": {},
   "outputs": [],
   "source": [
    "fl_df_Aleurodicus = filtered_df[filtered_df['des_nivel2'] == 'ALEURODICUS COCOIS, ALEURODICUS JULEIKAE']\n",
    "fl_df_Aleurodicus_Hoj_Inf = fl_df_Aleurodicus[fl_df_Aleurodicus['Caracteristica'] == 'N° HOJAS INFESTADAS']\n",
    "#fl_df_Aleurodicus_Hoj_Inf"
   ]
  },
  {
   "cell_type": "code",
   "execution_count": 112,
   "metadata": {},
   "outputs": [
    {
     "data": {
      "image/png": "[encoded data removed]",
      "text/plain": [
       "<Figure size 432x288 with 1 Axes>"
      ]
     },
     "metadata": {
      "needs_background": "light"
     },
     "output_type": "display_data"
    }
   ],
   "source": [
    "x = fl_df_Aleurodicus_Hoj_Inf['Fecha']\n",
    "y = fl_df_Aleurodicus_Hoj_Inf['Suma']\n",
    "\n",
    "plt.title('ALEURODICUS COCOIS, ALEURODICUS JULEIKAE - N° HOJAS INFESTADAS')\n",
    "plt.xlabel('Número de datos evaluados: ' + str(fl_df_Aleurodicus_Hoj_Inf.shape[0]), fontsize=14, color='blue')\n",
    "plt.plot(x,y)\n",
    "#plt.show()\n",
    "plt.savefig('ALEURODICUS COCOIS, ALEURODICUS JULEIKAE - N° HOJAS INFESTADAS.png')"
   ]
  },
  {
   "cell_type": "code",
   "execution_count": 80,
   "metadata": {},
   "outputs": [
    {
     "data": {
      "text/html": [
       "<div>\n",
       "<style scoped>\n",
       "    .dataframe tbody tr th:only-of-type {\n",
       "        vertical-align: middle;\n",
       "    }\n",
       "\n",
       "    .dataframe tbody tr th {\n",
       "        vertical-align: top;\n",
       "    }\n",
       "\n",
       "    .dataframe thead th {\n",
       "        text-align: right;\n",
       "    }\n",
       "</style>\n",
       "<table border=\"1\" class=\"dataframe\">\n",
       "  <thead>\n",
       "    <tr style=\"text-align: right;\">\n",
       "      <th></th>\n",
       "      <th>Fecha</th>\n",
       "      <th>LOTE</th>\n",
       "      <th>des_nivel1</th>\n",
       "      <th>des_nivel2</th>\n",
       "      <th>Caracteristica</th>\n",
       "      <th>Suma</th>\n",
       "    </tr>\n",
       "  </thead>\n",
       "  <tbody>\n",
       "  </tbody>\n",
       "</table>\n",
       "</div>"
      ],
      "text/plain": [
       "Empty DataFrame\n",
       "Columns: [Fecha, LOTE, des_nivel1, des_nivel2, Caracteristica, Suma]\n",
       "Index: []"
      ]
     },
     "execution_count": 80,
     "metadata": {},
     "output_type": "execute_result"
    }
   ],
   "source": [
    "fl_df_Aleurodicus_Hoj_Inf[fl_df_Aleurodicus_Hoj_Inf['Suma'] != 0]"
   ]
  },
  {
   "cell_type": "markdown",
   "metadata": {},
   "source": [
    "# BEMISIA TABACI\n",
    "## N° HOJAS INFESTADAS"
   ]
  },
  {
   "cell_type": "code",
   "execution_count": 95,
   "metadata": {},
   "outputs": [],
   "source": [
    "fl_df_Bemisia = filtered_df[filtered_df['des_nivel2'] == 'BEMISIA TABACI']\n",
    "fl_df_Bemisia_HojInf = fl_df_Bemisia[fl_df_Bemisia['Caracteristica'] == 'N° HOJAS INFESTADAS']\n",
    "#fl_df_Bemisia_HojInf"
   ]
  },
  {
   "cell_type": "code",
   "execution_count": 135,
   "metadata": {},
   "outputs": [
    {
     "name": "stdout",
     "output_type": "stream",
     "text": [
      "Fecha\n",
      "LOTE\n",
      "des_nivel1\n",
      "des_nivel2\n",
      "Caracteristica\n",
      "Suma\n"
     ]
    }
   ],
   "source": [
    "for lote in fl_df_Bemisia_HojInf:\n",
    "    print(lote)"
   ]
  },
  {
   "cell_type": "code",
   "execution_count": 136,
   "metadata": {},
   "outputs": [
    {
     "data": {
      "image/png": "[encoded data removed]",
      "text/plain": [
       "<Figure size 432x288 with 1 Axes>"
      ]
     },
     "metadata": {
      "needs_background": "light"
     },
     "output_type": "display_data"
    }
   ],
   "source": [
    "x = fl_df_Bemisia_HojInf['Fecha']\n",
    "y = fl_df_Bemisia_HojInf['Suma']\n",
    "\n",
    "\n",
    "plt.title('BEMISIA TABACI - N° HOJAS INFESTADAS')\n",
    "plt.xlabel('Fecha')\n",
    "plt.ylabel('Suma')\n",
    "plt.plot(x,y, label = 'lote 3001')\n",
    "plt.legend()\n",
    "plt.show()\n",
    "#plt.savefig('BEMISIA TABACI - N° HOJAS INFESTADAS.png')"
   ]
  },
  {
   "cell_type": "code",
   "execution_count": 126,
   "metadata": {},
   "outputs": [
    {
     "data": {
      "text/plain": [
       "int"
      ]
     },
     "execution_count": 126,
     "metadata": {},
     "output_type": "execute_result"
    }
   ],
   "source": [
    "type(fl_df_Bemisia_HojInf.shape[0])"
   ]
  },
  {
   "cell_type": "code",
   "execution_count": null,
   "metadata": {},
   "outputs": [],
   "source": []
  }
 ],
 "metadata": {
  "kernelspec": {
   "display_name": "Python 3",
   "language": "python",
   "name": "python3"
  },
  "language_info": {
   "codemirror_mode": {
    "name": "ipython",
    "version": 3
   },
   "file_extension": ".py",
   "mimetype": "text/x-python",
   "name": "python",
   "nbconvert_exporter": "python",
   "pygments_lexer": "ipython3",
   "version": "3.7.8"
  }
 },
 "nbformat": 4,
 "nbformat_minor": 4
}
